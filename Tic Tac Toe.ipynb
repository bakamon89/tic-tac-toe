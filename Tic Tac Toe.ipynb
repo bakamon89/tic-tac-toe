{
 "cells": [
  {
   "cell_type": "code",
   "execution_count": 1,
   "id": "2bc6f4d7",
   "metadata": {},
   "outputs": [],
   "source": [
    "def show_board(x,y):\n",
    "\n",
    "    print(x[1] +  \" | \" +  x[2] + \" | \" +  x[3]+\"     \"+y[1] +  \" | \" +  y[2] + \" | \" +  y[3])\n",
    "    print(\"---------\"+\"     \"+\"---------\")\n",
    "    print(x[4] +  \" | \" +  x[5] + \" | \" +  x[6]+\"     \"+y[4] +  \" | \" +  y[5] + \" | \" +  y[6])\n",
    "    print(\"---------\"+\"     \"+\"---------\")\n",
    "    print(x[7] +  \" | \" +  x[8] + \" | \" +  x[9]+\"     \"+y[7] +  \" | \" +  y[8] + \" | \" +  y[9])"
   ]
  },
  {
   "cell_type": "code",
   "execution_count": 2,
   "id": "fd09944f",
   "metadata": {},
   "outputs": [],
   "source": [
    "def win_condition(board):\n",
    "    win_options = [[1,2,3],[4,5,6],[7,8,9],[1,4,7],[2,5,8],[3,6,9],[1,5,9],[3,5,7]]\n",
    "    \n",
    "    for x in win_options:\n",
    "        if (board[x[0]] == board[x[1]] == board[x[2]]) and board[x[1]] != \" \":\n",
    "            return True"
   ]
  },
  {
   "cell_type": "code",
   "execution_count": 3,
   "id": "0f02962e",
   "metadata": {},
   "outputs": [],
   "source": [
    "def player_1():\n",
    "    board = ['#',' ',' ',' ',' ',' ',' ',' ',' ',' ']\n",
    "    boardindex = ['#','1','2','3','4','5','6','7','8','9']\n",
    "    turn = 'Player 1'\n",
    "    player_input = 'hello'\n",
    "    key = 'X'\n",
    "    Game = 'On'\n",
    "    show_board(board,boardindex)\n",
    "    \n",
    "    # X turn\n",
    "    while Game == 'On':\n",
    "        print(f'{turn}/{key} Turn')\n",
    "        while player_input.isdigit()== False:\n",
    "            player_input = input(\"Please make your play (1-9): \")  \n",
    "            if player_input.isdigit()== False or int(player_input) not in range(1,10) or board[int(player_input)]!=' ':\n",
    "                clear_output()\n",
    "                print(\"Invalid choice\")\n",
    "                show_board(board,boardindex)\n",
    "                player_input = 'wrong'\n",
    "        clear_output()\n",
    "        \n",
    "        #printing X or O depending on player\n",
    "\n",
    "        board[int(player_input)]= key\n",
    "        boardindex[int(player_input)] = \" \"\n",
    "\n",
    "        \n",
    "        show_board(board,boardindex)\n",
    "        player_input = 'wrong'\n",
    "        \n",
    "        #check if game over.\n",
    "        if win_condition(board):\n",
    "            Game = 'End'\n",
    "            print(f'Game Over. {turn} Wins.')\n",
    "            break\n",
    "        elif \" \" not in board:\n",
    "            Game = 'End'\n",
    "            print('Game is a Draw. Well played.')\n",
    "            break\n",
    "        else:\n",
    "            if turn == 'Player 1':\n",
    "                turn =  'Player 2'\n",
    "                key = \"O\"\n",
    "            else:\n",
    "                turn =  'Player 1'\n",
    "                key = \"X\""
   ]
  },
  {
   "cell_type": "code",
   "execution_count": 14,
   "id": "6468b2f9",
   "metadata": {},
   "outputs": [],
   "source": [
    "def rematch():\n",
    "    pick = ['Y','N']\n",
    "    response = \"lol\"\n",
    "    while response not in pick:\n",
    "        response = input('Would you like a rematch? Y/N').upper()\n",
    "        if response not in pick:\n",
    "            clear_output()\n",
    "            print(\"Invalid Choice, please pick Y or N.\")\n",
    "        else:\n",
    "            pass\n",
    "        \n",
    "    if response == 'Y':\n",
    "        Game = \"On\"\n",
    "        \n",
    "    else:\n",
    "        clear_output()\n",
    "        print(\"Thank you for playing. Goodbye.\")"
   ]
  },
  {
   "cell_type": "code",
   "execution_count": 10,
   "id": "aa3d1630",
   "metadata": {},
   "outputs": [],
   "source": [
    "def intro():\n",
    "    choice = [\"X\",\"O\"]\n",
    "    pick = 'a'\n",
    "\n",
    "    while pick not in choice:\n",
    "        pick = input(\"Would you like to be X or O?\").upper()\n",
    "        if pick not in choice:\n",
    "            clear_output()\n",
    "            print(\"Invalid Choice, please pick X or O.\")\n",
    "        else:\n",
    "            pass\n",
    "\n",
    "    if pick == 'X':\n",
    "        clear_output()\n",
    "        print(\"X - You are Player 1. Please go first.\")\n",
    "    else:\n",
    "        clear_output()\n",
    "        print(\"O - You are Player 2. Your opponent goes first.\")"
   ]
  },
  {
   "cell_type": "code",
   "execution_count": 6,
   "id": "ef91f22a",
   "metadata": {},
   "outputs": [],
   "source": [
    "def tictactoe():\n",
    "    Game = 'Y'\n",
    "\n",
    "    while Game == 'Y':\n",
    "        intro()\n",
    "\n",
    "        player_1()\n",
    "\n",
    "        Game = rematch()"
   ]
  },
  {
   "cell_type": "code",
   "execution_count": 8,
   "id": "de3c83ae",
   "metadata": {},
   "outputs": [],
   "source": [
    "from IPython.display import clear_output\n",
    "clear_output()"
   ]
  },
  {
   "cell_type": "code",
   "execution_count": null,
   "id": "88f96525",
   "metadata": {},
   "outputs": [
    {
     "name": "stdout",
     "output_type": "stream",
     "text": [
      "Invalid Choice, please pick Y or N.\n"
     ]
    }
   ],
   "source": [
    "tictactoe()"
   ]
  },
  {
   "cell_type": "code",
   "execution_count": null,
   "id": "18519f66",
   "metadata": {},
   "outputs": [],
   "source": []
  }
 ],
 "metadata": {
  "kernelspec": {
   "display_name": "Python 3 (ipykernel)",
   "language": "python",
   "name": "python3"
  },
  "language_info": {
   "codemirror_mode": {
    "name": "ipython",
    "version": 3
   },
   "file_extension": ".py",
   "mimetype": "text/x-python",
   "name": "python",
   "nbconvert_exporter": "python",
   "pygments_lexer": "ipython3",
   "version": "3.9.7"
  }
 },
 "nbformat": 4,
 "nbformat_minor": 5
}
